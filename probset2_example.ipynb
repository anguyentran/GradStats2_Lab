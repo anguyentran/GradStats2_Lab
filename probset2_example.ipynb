{
 "cells": [
  {
   "cell_type": "markdown",
   "metadata": {},
   "source": [
    "## Stats 211 Problem set 2\n",
    "\n",
    "Anh Nguyen Tran\n",
    "\n",
    "Loan Repayment, Student Aid, and Research Universities: Class Privilege (Homework Example)\n",
    "\n",
    "February 15, 2024"
   ]
  },
  {
   "cell_type": "markdown",
   "metadata": {},
   "source": [
    "### 1. Explain any new or revised hypotheses for interval ratio data from your own project or from Charlie's grant and loan repayment data\n",
    "\n",
    "[Your answer here should explain:\n",
    "1. What are your dependent variables? Why do they interest you?\n",
    "2. What are your independent variables? What direction to you hypothesize will be the relationship between your dependent variable and your dependent variables?\n",
    "3. Why do you think your dependent variables are associated with your independent variables?\n",
    "4. What are your control variables? Do you think they will show any spurious, intervening, or interactive relationships? Why?]\n",
    "\n",
    "If you are working with the grant and loan repayment data, formulate hypotheses about:\n",
    "1. The relationship between state grant aid per student and the level of research at a university\n",
    "2. The relationship between loan repayment and college net price for low-income students. The later variable is name **netprice4lowincome**\n",
    "\n",
    "[Anh's Example:\n",
    "1. My dependent variables are percent loan repayment and in-state tuition. I am interested in examining the cycle of poverty...\n",
    "2. My independent variables are undergraduate count and selectivity. I hypothesize that the number of undergraduates enrolled at a university has a negative association with the percent of loan repayment. I also hypothesize that the number of undergraduates enrolled at a university has a positive association with the amount of state aid per student. In other words, as the undergraduate count increases, there is a decrease in the percentage of loan repayment and an increase in the amount of state aid per student.......]"
   ]
  },
  {
   "cell_type": "markdown",
   "metadata": {},
   "source": [
    "### 2. Setting up your session\n",
    "\n",
    "In the code cell below, do the following:\n",
    "\n",
    "1. set current directory \n",
    "2. set more off \n",
    "3. create log file \n",
    "4. download the data from its source if it's available online\n",
    "5. read the data in [preferably only variables you are going to use]"
   ]
  },
  {
   "cell_type": "code",
   "execution_count": 1,
   "metadata": {
    "tags": []
   },
   "outputs": [
    {
     "data": {
      "text/html": [
       "<style>div.jp-Notebook .datagrid-container {min-height: 448px; }</style>"
      ],
      "text/plain": [
       "<IPython.core.display.HTML object>"
      ]
     },
     "metadata": {},
     "output_type": "display_data"
    },
    {
     "name": "stdout",
     "output_type": "stream",
     "text": [
      "/Users/anhnguyentran/Desktop/GradStats2_Lab\n"
     ]
    }
   ],
   "source": [
    "cd \"/Users/anhnguyentran/Desktop/GradStats2_Lab\""
   ]
  },
  {
   "cell_type": "code",
   "execution_count": 2,
   "metadata": {
    "tags": []
   },
   "outputs": [
    {
     "name": "stdout",
     "output_type": "stream",
     "text": [
      "(-set more- irrelevant in this version of Stata)\n"
     ]
    }
   ],
   "source": [
    "set more off"
   ]
  },
  {
   "cell_type": "code",
   "execution_count": 3,
   "metadata": {},
   "outputs": [
    {
     "name": "stdout",
     "output_type": "stream",
     "text": [
      "-------------------------------------------------------------------------------\n",
      "      name:  <unnamed>\n",
      "       log:  /Users/anhnguyentran/Desktop/GradStats2_Lab/Log for Problem Set 2.\n",
      "> log\n",
      "  log type:  text\n",
      " opened on:  14 Feb 2024, 14:00:11\n"
     ]
    }
   ],
   "source": [
    "log using \"Log for Problem Set 2.log\", replace"
   ]
  },
  {
   "cell_type": "code",
   "execution_count": 4,
   "metadata": {
    "tags": []
   },
   "outputs": [
    {
     "name": "stdout",
     "output_type": "stream",
     "text": [
      "(19 vars, 33 obs)\n"
     ]
    }
   ],
   "source": [
    "insheet using loanrepay2013_highestresearch.csv, clear"
   ]
  },
  {
   "cell_type": "code",
   "execution_count": 5,
   "metadata": {
    "tags": []
   },
   "outputs": [
    {
     "name": "stdout",
     "output_type": "stream",
     "text": [
      "opeid               stabbr              spend_ugd_4yr_low   instatetuition\n",
      "acceptrate          hgroup              x_aid_bysticker     xstring\n",
      "y_lo_inc_rpy        upgrntn             sgrnt_low_inc       ystring\n",
      "lo_inc_debt_mdn     all_under           igrnt_low_inc       markerlabel\n",
      "instnm              netprice4lowincome  sandigrnt_low_inc\n"
     ]
    }
   ],
   "source": [
    "ds, varwidth(25)"
   ]
  },
  {
   "cell_type": "code",
   "execution_count": 6,
   "metadata": {
    "tags": []
   },
   "outputs": [
    {
     "name": "stdout",
     "output_type": "stream",
     "text": [
      "\n",
      "-------------------------------------------------------------------------------\n",
      "y_lo_inc_rpy                                                   % Loan Repayment\n",
      "-------------------------------------------------------------------------------\n",
      "\n",
      "                  Type: Numeric (float)\n",
      "\n",
      "                 Range: [47.9304,78.4337]             Units: .0001\n",
      "         Unique values: 33                        Missing .: 0/33\n",
      "\n",
      "                  Mean: 66.2211\n",
      "             Std. dev.: 8.30001\n",
      "\n",
      "           Percentiles:     10%       25%       50%       75%       90%\n",
      "                        56.1845   60.4167   67.2012   73.6202   75.6098\n"
     ]
    }
   ],
   "source": [
    "label variable y_lo_inc_rpy \"% Loan Repayment\"\n",
    "codebook y_lo_inc_rpy"
   ]
  },
  {
   "cell_type": "code",
   "execution_count": 9,
   "metadata": {
    "tags": []
   },
   "outputs": [
    {
     "name": "stdout",
     "output_type": "stream",
     "text": [
      "\n",
      "-------------------------------------------------------------------------------\n",
      "instatetuition                            In-state Tuition for each Institution\n",
      "-------------------------------------------------------------------------------\n",
      "\n",
      "                  Type: Numeric (float)\n",
      "\n",
      "                 Range: [5647.7734,16535.955]         Units: .0001\n",
      "         Unique values: 23                        Missing .: 0/33\n",
      "\n",
      "                  Mean: 10526.8\n",
      "             Std. dev.:  2454.7\n",
      "\n",
      "           Percentiles:     10%       25%       50%       75%       90%\n",
      "                        7657.99   8985.73   9905.68   12355.8   13324.3\n"
     ]
    }
   ],
   "source": [
    "// NOTE: This is a dependent variable you do not need for hw :)\n",
    "\n",
    "label variable instatetuition \"In-state Tuition for each Institution\"\n",
    "codebook instatetuition"
   ]
  },
  {
   "cell_type": "code",
   "execution_count": 7,
   "metadata": {
    "tags": []
   },
   "outputs": [
    {
     "name": "stdout",
     "output_type": "stream",
     "text": [
      "\n",
      "-------------------------------------------------------------------------------\n",
      "all_under                                                   Undergraduate Count\n",
      "-------------------------------------------------------------------------------\n",
      "\n",
      "                  Type: Numeric (long)\n",
      "\n",
      "                 Range: [55740,169404]                Units: 1\n",
      "         Unique values: 33                        Missing .: 0/33\n",
      "\n",
      "                  Mean:  106268\n",
      "             Std. dev.: 29157.6\n",
      "\n",
      "           Percentiles:     10%       25%       50%       75%       90%\n",
      "                          73258     80273    106338    127554    146122\n"
     ]
    }
   ],
   "source": [
    "// NOTE: This example uses a different independent variable from Charlie's data than the one you need\n",
    "\n",
    "label variable all_under \"Undergraduate Count\"\n",
    "codebook all_under"
   ]
  },
  {
   "cell_type": "code",
   "execution_count": 8,
   "metadata": {
    "tags": []
   },
   "outputs": [
    {
     "name": "stdout",
     "output_type": "stream",
     "text": [
      "\n",
      "-------------------------------------------------------------------------------\n",
      "acceptrate                                                      Acceptance Rate\n",
      "-------------------------------------------------------------------------------\n",
      "\n",
      "                  Type: Numeric (float)\n",
      "\n",
      "                 Range: [.21463495,.91753805]         Units: 1.000e-08\n",
      "         Unique values: 33                        Missing .: 0/33\n",
      "\n",
      "                  Mean: .584394\n",
      "             Std. dev.:  .18895\n",
      "\n",
      "           Percentiles:     10%       25%       50%       75%       90%\n",
      "                        .339553   .453192   .594614   .726273    .84045\n",
      "(12 real changes made)\n",
      "(15 real changes made)\n",
      "(6 real changes made)\n",
      "\n",
      "         selective |      Freq.     Percent        Cum.\n",
      "-------------------+-----------------------------------\n",
      "     not selective |          6       18.18       18.18\n",
      "slightly selective |         15       45.45       63.64\n",
      "         selective |         12       36.36      100.00\n",
      "-------------------+-----------------------------------\n",
      "             Total |         33      100.00\n"
     ]
    }
   ],
   "source": [
    "// NOTE: This is another independent variable you do not need :)\n",
    "\n",
    "label variable acceptrate \"Acceptance Rate\"\n",
    "codebook acceptrate\n",
    "\n",
    "**Creating selectivity independent variable\n",
    "gen selective=acceptrate\n",
    "replace selective=2 if selective > 0 & selective < 0.5\n",
    "replace selective=1 if selective > 0 & selective < 0.8\n",
    "replace selective=0 if selective > 0 & selective < 1.0\n",
    "label define selective 0 \"not selective\" 1 \"slightly selective\" 2 \"selective\"\n",
    "label values selective selective\n",
    "\n",
    "tab selective"
   ]
  },
  {
   "cell_type": "markdown",
   "metadata": {},
   "source": [
    "### 3. Create a bar graph with confidence interval whiskers\n",
    "\n",
    "Create a bar graph that compares interval ratio data for a dependent variable across different nominal categories from an independent variable. If you are using Charlie's data, do this for the state grant aid per low income student variable name **sgrnt_low**"
   ]
  },
  {
   "cell_type": "code",
   "execution_count": 10,
   "metadata": {},
   "outputs": [],
   "source": [
    "// Creating the variables for the confidence interval whiskers by selectivity for in-state tuition\n",
    "\n",
    "*1) Calculate the mean for in-state tuition\n",
    "bysort selective: egen mn_instatetuition=mean(instatetuition)"
   ]
  },
  {
   "cell_type": "code",
   "execution_count": 11,
   "metadata": {
    "tags": []
   },
   "outputs": [],
   "source": [
    "*2) Calculate squared deviations for in-state tuition\n",
    "\n",
    "gen sqdv_instatetuition=(instatetuition-mn_instatetuition)^2"
   ]
  },
  {
   "cell_type": "code",
   "execution_count": 12,
   "metadata": {
    "tags": []
   },
   "outputs": [],
   "source": [
    "*3) Collapsing the dataset\n",
    "\n",
    "collapse ///\n",
    "(count) n=instatetuition ///\n",
    "(first) mn_instatetuition ///\n",
    "(sum) ssqdv_instatetuition= sqdv_instatetuition ///\n",
    ", by(selective)"
   ]
  },
  {
   "cell_type": "code",
   "execution_count": 13,
   "metadata": {
    "tags": []
   },
   "outputs": [],
   "source": [
    "*4) Calculate standard deviation for in-state tuition\n",
    "\n",
    "gen sd_instatetuition=sqrt(ssqdv_instatetuition/(n-1))"
   ]
  },
  {
   "cell_type": "code",
   "execution_count": 14,
   "metadata": {
    "tags": []
   },
   "outputs": [],
   "source": [
    "*5) Calculate standard error for in-state tuition\n",
    "\n",
    "gen se_instatetuition= sd_instatetuition/sqrt(n-1)"
   ]
  },
  {
   "cell_type": "code",
   "execution_count": 15,
   "metadata": {
    "tags": []
   },
   "outputs": [],
   "source": [
    "*6) Creating the whiskers for the confidence interval in the bar graph\n",
    "\n",
    "generate hi_instatetuition = mn_instatetuition + 1.96 * se_instatetuition\n",
    "generate lo_instatetuition = mn_instatetuition - 1.96 * se_instatetuition"
   ]
  },
  {
   "cell_type": "code",
   "execution_count": 16,
   "metadata": {
    "tags": []
   },
   "outputs": [
    {
     "data": {
      "image/png": "[encoded data removed]",
      "text/plain": [
       "<IPython.core.display.Image object>"
      ]
     },
     "metadata": {},
     "output_type": "display_data"
    }
   ],
   "source": [
    "*7) Finally creating the bar graph with whiskers\n",
    "\n",
    "graph twoway (bar mn_instatetuition selective, barw(.5)) ///\n",
    "(rcap hi_instatetuition lo_instatetuition selective) , ///\n",
    "xlabel( 0 \"Selective\" 1 \"Slightly Selective\" 2 \"Selective\", noticks) ///\n",
    "ytitle(\"In-State Tuition per Institution ($)\") ///\n",
    "ylabel(0(5000)20000, format(%10.0fc)) ///\n",
    "xtitle(\"Selectivity\") legend(off) name(igrntbar, replace) ///\n",
    "title(\"Instate Tuition by Selectivity\")  ///\n",
    "yline(1936.825, lp(_) lcolor(red) lstyle(foreground)) scheme(plotplainblind)"
   ]
  },
  {
   "cell_type": "code",
   "execution_count": 17,
   "metadata": {
    "tags": []
   },
   "outputs": [
    {
     "name": "stdout",
     "output_type": "stream",
     "text": [
      "(19 vars, 33 obs)\n",
      "(12 real changes made)\n",
      "(15 real changes made)\n",
      "(6 real changes made)\n"
     ]
    }
   ],
   "source": [
    "// NOTE: This is just for me to show you what it means when confidence intervals overlap.\n",
    "\n",
    "*Reloading the data after collapsing\n",
    "insheet using loanrepay2013_highestresearch.csv, clear\n",
    "\n",
    "**Creating selectivity independent variable\n",
    "gen selective=acceptrate\n",
    "replace selective=2 if selective > 0 & selective < 0.5\n",
    "replace selective=1 if selective > 0 & selective < 0.8\n",
    "replace selective=0 if selective > 0 & selective < 1.0\n",
    "label values selective selective"
   ]
  },
  {
   "cell_type": "code",
   "execution_count": 18,
   "metadata": {
    "tags": []
   },
   "outputs": [
    {
     "name": "stdout",
     "output_type": "stream",
     "text": [
      "\n",
      "      Source |       SS           df       MS      Number of obs   =        33\n",
      "-------------+----------------------------------   F(1, 31)        =      1.11\n",
      "       Model |  6681694.86         1  6681694.86   Prob > F        =    0.2996\n",
      "    Residual |   186136748        31  6004411.22   R-squared       =    0.0347\n",
      "-------------+----------------------------------   Adj R-squared   =    0.0035\n",
      "       Total |   192818443        32  6025576.34   Root MSE        =    2450.4\n",
      "\n",
      "------------------------------------------------------------------------------\n",
      "instatetui~n | Coefficient  Std. err.      t    P>|t|     [95% conf. interval]\n",
      "-------------+----------------------------------------------------------------\n",
      "   selective |   628.6128   595.9023     1.05   0.300    -586.7381    1843.964\n",
      "       _cons |   9783.902   823.3574    11.88   0.000     8104.654    11463.15\n",
      "------------------------------------------------------------------------------\n"
     ]
    }
   ],
   "source": [
    "// NOTE: Again, you don't need this for the homework in this section. This is just for the example\n",
    "\n",
    "reg instatetuition selective"
   ]
  },
  {
   "cell_type": "markdown",
   "metadata": {},
   "source": [
    "### 4. Summarize what you learned from the bar graph\n",
    "\n",
    "Do the confidence intervals overlap across categories or not? What does this mean?"
   ]
  },
  {
   "cell_type": "markdown",
   "metadata": {},
   "source": [
    "The confidence intervals overlap for slightly selective and selective universities. This indicates that the relationship between selectivity and in-state tuition is not statistically significant. In other words, there is no association between selectivity and in-state tuition. "
   ]
  },
  {
   "cell_type": "markdown",
   "metadata": {},
   "source": [
    "### 4. Estimate OLS regression statistics for the relationship between two interval ratio variables and ouput the table below\n",
    "\n",
    "If you use Charlie's data, use the loan repayment variable and the **netprice4lowincome** variable."
   ]
  },
  {
   "cell_type": "code",
   "execution_count": 19,
   "metadata": {},
   "outputs": [
    {
     "name": "stdout",
     "output_type": "stream",
     "text": [
      "(19 vars, 33 obs)\n",
      "opeid               stabbr              spend_ugd_4yr_low   instatetuition\n",
      "acceptrate          hgroup              x_aid_bysticker     xstring\n",
      "y_lo_inc_rpy        upgrntn             sgrnt_low_inc       ystring\n",
      "lo_inc_debt_mdn     all_under           igrnt_low_inc       markerlabel\n",
      "instnm              netprice4lowincome  sandigrnt_low_inc\n"
     ]
    }
   ],
   "source": [
    "insheet using loanrepay2013_highestresearch.csv, clear\n",
    "ds, varwidth(25)"
   ]
  },
  {
   "cell_type": "code",
   "execution_count": 20,
   "metadata": {
    "tags": []
   },
   "outputs": [
    {
     "name": "stdout",
     "output_type": "stream",
     "text": [
      "\n",
      "      Source |       SS           df       MS      Number of obs   =        33\n",
      "-------------+----------------------------------   F(1, 31)        =      1.87\n",
      "       Model |  125.670787         1  125.670787   Prob > F        =    0.1809\n",
      "    Residual |   2078.8145        31  67.0585322   R-squared       =    0.0570\n",
      "-------------+----------------------------------   Adj R-squared   =    0.0266\n",
      "       Total |  2204.48528        32  68.8901651   Root MSE        =    8.1889\n",
      "\n",
      "------------------------------------------------------------------------------\n",
      "y_lo_inc_rpy | Coefficient  Std. err.      t    P>|t|     [95% conf. interval]\n",
      "-------------+----------------------------------------------------------------\n",
      "   all_under |   -.000068   .0000496    -1.37   0.181    -.0001692    .0000333\n",
      "       _cons |   73.44366   5.465171    13.44   0.000     62.29737    84.58995\n",
      "------------------------------------------------------------------------------\n"
     ]
    }
   ],
   "source": [
    "// Doing regression analysis between percent loan repayment and undergraduate count\n",
    "\n",
    "reg y_lo_inc_rpy all_under"
   ]
  },
  {
   "cell_type": "code",
   "execution_count": 21,
   "metadata": {},
   "outputs": [],
   "source": [
    "// NOTE: I am showing you how to manually calculate F-ratio (this is just for lab; not needed for hw)\n",
    "\n",
    "*1) Calculate mean for both variables\n",
    "egen X_mean=mean(all_under)\n",
    "egen Y_mean=mean(y_lo_inc_rpy)\n",
    "\n",
    "*2) Calculate covariances between variables per school\n",
    "gen covars_xy=(all_under - X_mean) * (y_lo_inc_rpy - Y_mean)\n",
    "\n",
    "*3) Calculate squared deviations of undergraduate count (independent var.) per school\n",
    "gen sq_dev_x_s2=(all_under - X_mean)^2"
   ]
  },
  {
   "cell_type": "code",
   "execution_count": 22,
   "metadata": {},
   "outputs": [],
   "source": [
    "*4) Calculating sum of covariances\n",
    "\n",
    "qui {\n",
    "summarize covars_xy // calculate the sum of covariances for all 33 schools\n",
    "local sum_s_xy=r(sum)\n",
    "summarize sq_dev_x_s2 // calculate the sum of squared deviations for X for all 33 schools\n",
    "local sum_variance_x_s2=r(sum)\n",
    "local s_xy = round(`sum_s_xy' / (33-1), .01) // calculate covariance of xy\n",
    "local s2_x = round(`sum_variance_x_s2' / (33-1), .01) // calculate variance of X\n",
    "}"
   ]
  },
  {
   "cell_type": "code",
   "execution_count": 23,
   "metadata": {},
   "outputs": [],
   "source": [
    "*5) Calculating Y_hat for regression formula (do after getting regression output)\n",
    "\n",
    "gen Y_hat_loanrpy = 73.44 + -.000068 * all_under\n",
    "gen sqdvY_mean = (y_lo_inc_rpy - Y_mean)^2\n",
    "gen sqdvY_hat = (y_lo_inc_rpy - Y_hat_loanrpy)^2"
   ]
  },
  {
   "cell_type": "code",
   "execution_count": 24,
   "metadata": {},
   "outputs": [],
   "source": [
    "*6) Summing up ssquared deviations and squared errors\n",
    "\n",
    "qui {\n",
    "summarize sqdvY_mean // calculate SST, the sum of squared deviations from the mean of Y for all 33 schools\n",
    "local sst_Y=r(sum)\n",
    "summarize sqdvY_hat // calculate SSE, the sum of squared errors (residuals) for all 33 schools\n",
    "local sse_Y=r(sum)\n",
    "}"
   ]
  },
  {
   "cell_type": "code",
   "execution_count": 25,
   "metadata": {},
   "outputs": [
    {
     "name": "stdout",
     "output_type": "stream",
     "text": [
      "f_ratio =1.8740168\n"
     ]
    }
   ],
   "source": [
    "*7) Finally calculating the F-ratio\n",
    "\n",
    "display \"f_ratio =\" ((`sst_Y' - `sse_Y')/1) / (`sse_Y' / (33-2))\n",
    "\n",
    "// You can calculate r-squared manually too with the following command:\n",
    "* display \"r2 (r-squared) = \" (`sst_Y' - `sse_Y') / `sst_Y' // calculate r_2 r squared"
   ]
  },
  {
   "cell_type": "markdown",
   "metadata": {},
   "source": [
    "### Helpful Guides for F-Ratio\n",
    "\n",
    "Website instructions for following along with manual calculations:\n",
    "* Link: https://jukebox.esc13.net/untdeveloper/RM/Stats_Module_4/mobile_pages/Stats_Module_410.html\n",
    "\n",
    "F-ratio calculator\n",
    "* Link: https://www.statology.org/f-distribution-calculator/"
   ]
  },
  {
   "cell_type": "markdown",
   "metadata": {},
   "source": [
    "### 5. Interpret the output\n",
    "\n",
    "1. What is the coefficient for your independent variable? What does it say about the size and direction of the relationship you estimated?\n",
    "\n",
    "2. What is the p-value for the coefficient for your independent variable? What does it indicate about how much confidence we can have in the estimated relationship?\n",
    "\n",
    "3. What is the $r^2$ coefficient of determination? What does it say about how much variation in your dependent variable is explained by the independent variable?\n",
    "\n",
    "4. What is the F-ratio for your $r^2$. What does it indicate about how much confidence we can have in the $r^2$ estimate?\n",
    "\n"
   ]
  },
  {
   "cell_type": "markdown",
   "metadata": {},
   "source": [
    "Example answer:\n",
    "1. The coefficient estimate for undergraduate count is -6.80e-5. There is a small, negative relationship...\n",
    "2. The p-value for this relationship is less than 0.05, which indicates that the relationship is not statistically significant.\n",
    "As such, we do not have much confidence in an association between...\n",
    "3. The coefficient of determination is 0.057. This means that 5.7% of the variation in percent loan repayment...\n",
    "4. The F-ratio is 1.87. The low F-ratio indicates that we have low confidence in the r-squared estimate."
   ]
  },
  {
   "cell_type": "markdown",
   "metadata": {},
   "source": [
    "### 6. Illustrate the OLS relationship with a scatter plot that includes a fitted line"
   ]
  },
  {
   "cell_type": "code",
   "execution_count": 26,
   "metadata": {},
   "outputs": [
    {
     "data": {
      "image/png": "[encoded data removed]",
      "text/plain": [
       "<IPython.core.display.Image object>"
      ]
     },
     "metadata": {},
     "output_type": "display_data"
    }
   ],
   "source": [
    "// Anh's Example: Creating a scatter plot with a fitted line for loan repayment and undergrad count\n",
    "\n",
    "tw (scatter y_lo_inc_rpy all_under) ///\n",
    "(lfit y_lo_inc_rpy all_under, color(red)), ///\n",
    "ytitle(\"% Loan repayment\") ///\n",
    "xtitle(\"Number of Undergraduates per Institution\") legend(off) scheme(plotplainblind)\n",
    "\n",
    "// Notice how the relationship is negative (as seen in the regression table)\n",
    "// The values are all over the place, which shows how the fitted line is not very good"
   ]
  },
  {
   "cell_type": "code",
   "execution_count": null,
   "metadata": {
    "tags": []
   },
   "outputs": [],
   "source": [
    "log close"
   ]
  }
 ],
 "metadata": {
  "kernelspec": {
   "display_name": "Stata (nbstata)",
   "language": "stata",
   "name": "nbstata"
  },
  "language_info": {
   "file_extension": ".do",
   "mimetype": "text/x-stata",
   "name": "stata",
   "version": "17"
  }
 },
 "nbformat": 4,
 "nbformat_minor": 4
}
